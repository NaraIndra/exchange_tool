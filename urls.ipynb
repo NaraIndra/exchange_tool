{
 "cells": [
  {
   "cell_type": "code",
   "execution_count": 1,
   "metadata": {},
   "outputs": [
    {
     "name": "stdout",
     "output_type": "stream",
     "text": [
      "./zipdir/\n"
     ]
    }
   ],
   "source": [
    "import os\n",
    "import requests\n",
    "import csv\n",
    "from zipfile import ZipFile\n",
    "from pathlib import Path\n",
    "import pandas as pd\n",
    "from typing import List, Optional\n",
    "import numpy as np\n",
    "# import datetime\n",
    "from datetime import datetime\n",
    "\n",
    "# path = Path(__file__).parent\n",
    "path = './'\n",
    "zippath = path + 'zipdir/'\n",
    "print(zippath)\n",
    "filepath = ''\n",
    "\n",
    "url = 'http://api.bestchange.ru/info.zip'\n",
    "if url.find('/'):\n",
    "    filename = url.rsplit('/', 1)[1]\n",
    "    filepath = path + filename\n",
    "else:\n",
    "    filepath = path + 'infozip'"
   ]
  },
  {
   "cell_type": "code",
   "execution_count": 2,
   "metadata": {},
   "outputs": [
    {
     "name": "stdout",
     "output_type": "stream",
     "text": [
      "./zipdir/\n"
     ]
    }
   ],
   "source": [
    "r = requests.get(url, allow_redirects=True)\n",
    "open(f'{filepath}', 'wb').write(r.content)\n",
    "\n",
    "with ZipFile(filepath, 'r') as zipObj:\n",
    "    zippath = path + 'zipdir/'\n",
    "    print(zippath)\n",
    "    a = zipObj.extractall(zippath)\n",
    "    for file in os.listdir(zippath):\n",
    "        if 'bm_cy.dat' == file:\n",
    "            os.rename(zippath + file, zippath + f\"{i}_{file}\")\n",
    "            rates_dat_to_csv_converter(zippath + f\"{i}_{file}\")\n",
    "        "
   ]
  },
  {
   "cell_type": "code",
   "execution_count": 4,
   "metadata": {},
   "outputs": [
    {
     "name": "stdout",
     "output_type": "stream",
     "text": [
      "163 Tether Omni (USDT)\n",
      "10 Tether TRC20 (USDT)\n",
      "36 Tether ERC20 (USDT)\n"
     ]
    }
   ],
   "source": [
    "with open('/home/ikira/Desktop/zipdir/bm_cy.dat', encoding = \"ISO-8859-1\") as dat_file, open('/home/ikira/Desktop/zipdir/id_currency.csv', 'w') as csv_file:\n",
    "    csv_writer = csv.writer(csv_file)\n",
    "    for line in dat_file:\n",
    "        uline = line.encode('utf-8').decode('utf-8')\n",
    "        row = [field.strip() for field in uline.split(';')]\n",
    "        if len(row) == 7 and row[3] and row[4]:\n",
    "            if ('Tether' in row[2]):\n",
    "                print(row[0], row[2])\n",
    "            csv_writer.writerow([row[0] + ';' + row[2]])"
   ]
  },
  {
   "cell_type": "code",
   "execution_count": 4,
   "metadata": {},
   "outputs": [],
   "source": [
    "for f in os.listdir(zippath):\n",
    "    if '.dat' in f: \n",
    "        os.remove(os.path.join(zippath, f))"
   ]
  },
  {
   "cell_type": "code",
   "execution_count": 5,
   "metadata": {},
   "outputs": [
    {
     "name": "stdout",
     "output_type": "stream",
     "text": [
      "None\n"
     ]
    }
   ],
   "source": [
    "with ZipFile(filepath, 'r') as zipObj:\n",
    "   a = zipObj.extractall(path+'zipdir')\n",
    "   print(a)\n",
    "    \n",
    "init_state = 0"
   ]
  },
  {
   "cell_type": "code",
   "execution_count": 3,
   "metadata": {},
   "outputs": [],
   "source": [
    "def query_currency_id(data,currency_name):\n",
    "    pass"
   ]
  },
  {
   "cell_type": "code",
   "execution_count": 4,
   "metadata": {},
   "outputs": [],
   "source": [
    "def currency_rate_retrieval(filename, cur_1, cur_2) -> Optional[List]:\n",
    "    if filename[0].isdigit() and  filename.split('.')[1] == 'csv':\n",
    "        print(f'{zippath}{x}')\n",
    "        data_new = pd.read_csv(f'{zippath}{x}', sep = ';', names = ['cur_give_id', 'cur_take_id', 'saler_id', 'cur_give_num', 'cur_take_num']) \n",
    "        row = data_new[(data_new.cur_give_id == cur_1) & (data_new.cur_take_id == cur_2)]\n",
    "        row['id'] = int(filename.split('_')[0])\n",
    "        return row\n",
    "            \n",
    "            "
   ]
  },
  {
   "cell_type": "code",
   "execution_count": 5,
   "metadata": {},
   "outputs": [],
   "source": [
    "\n",
    "# currency_rate_retrieval([x for x in os.listdir(zippath)], 93, 935)"
   ]
  },
  {
   "cell_type": "code",
   "execution_count": 6,
   "metadata": {},
   "outputs": [],
   "source": [
    "def bm_rates_dat_to_csv_converter(path_filename):\n",
    "    with open(path_filename, encoding = \"ISO-8859-1\") as dat_file, open(path_filename[:-3]+'csv', 'w') as csv_file:\n",
    "        csv_writer = csv.writer(csv_file)\n",
    "        print(csv_writer)\n",
    "        for line in dat_file:\n",
    "            uline = line.encode('utf-8').decode('utf-8')\n",
    "            row = [field.strip() for field in uline.split(';')]\n",
    "            row = row[0:6]\n",
    "            row.append(datetime.now())\n",
    "            csv_writer.writerow(row)"
   ]
  },
  {
   "cell_type": "code",
   "execution_count": 7,
   "metadata": {},
   "outputs": [],
   "source": [
    "def cleaner(path, ending):\n",
    "    for f in os.listdir(path):\n",
    "        if ending in f:\n",
    "            os.remove(os.path.join(path, f))\n",
    "    "
   ]
  },
  {
   "cell_type": "code",
   "execution_count": null,
   "metadata": {},
   "outputs": [],
   "source": []
  },
  {
   "cell_type": "code",
   "execution_count": 8,
   "metadata": {},
   "outputs": [
    {
     "name": "stdout",
     "output_type": "stream",
     "text": [
      "ok\n",
      "<_csv.writer object at 0x7fdee2808e30>\n",
      "ok\n",
      "<_csv.writer object at 0x7fdee2808d70>\n",
      "ok\n",
      "<_csv.writer object at 0x7fdee2808bf0>\n",
      "ok\n",
      "<_csv.writer object at 0x7fdee2808dd0>\n",
      "ok\n",
      "<_csv.writer object at 0x7fdee2808d70>\n",
      "ok\n",
      "<_csv.writer object at 0x7fdee2808bf0>\n",
      "ok\n",
      "<_csv.writer object at 0x7fdee2808dd0>\n",
      "ok\n",
      "<_csv.writer object at 0x7fdee2808d70>\n",
      "ok\n",
      "<_csv.writer object at 0x7fdee2808dd0>\n",
      "ok\n",
      "<_csv.writer object at 0x7fdee2808dd0>\n",
      "ok\n",
      "<_csv.writer object at 0x7fdee2808d70>\n",
      "ok\n",
      "<_csv.writer object at 0x7fdee2808bf0>\n",
      "ok\n",
      "<_csv.writer object at 0x7fdee2808dd0>\n",
      "ok\n",
      "<_csv.writer object at 0x7fdee2808d70>\n",
      "ok\n",
      "<_csv.writer object at 0x7fdee2808dd0>\n",
      "ok\n",
      "<_csv.writer object at 0x7fdee28082f0>\n",
      "ok\n",
      "<_csv.writer object at 0x7fdee2808bf0>\n",
      "ok\n",
      "<_csv.writer object at 0x7fdee2808d70>\n",
      "ok\n",
      "<_csv.writer object at 0x7fdee28082f0>\n",
      "ok\n",
      "<_csv.writer object at 0x7fdee2808dd0>\n",
      "ok\n",
      "<_csv.writer object at 0x7fdee2808d70>\n",
      "ok\n",
      "<_csv.writer object at 0x7fdee28082f0>\n",
      "ok\n",
      "<_csv.writer object at 0x7fdee2808dd0>\n",
      "ok\n",
      "<_csv.writer object at 0x7fdee2808bf0>\n",
      "ok\n",
      "<_csv.writer object at 0x7fdee28082f0>\n",
      "ok\n",
      "<_csv.writer object at 0x7fdee2808bf0>\n",
      "ok\n",
      "<_csv.writer object at 0x7fdee2808dd0>\n",
      "ok\n",
      "<_csv.writer object at 0x7fdee28082f0>\n",
      "ok\n",
      "<_csv.writer object at 0x7fdee2808d70>\n",
      "ok\n",
      "<_csv.writer object at 0x7fdee2808dd0>\n",
      "ok\n",
      "<_csv.writer object at 0x7fdee2808d70>\n",
      "ok\n",
      "<_csv.writer object at 0x7fdee28082f0>\n",
      "ok\n",
      "<_csv.writer object at 0x7fdee2808dd0>\n",
      "ok\n",
      "<_csv.writer object at 0x7fdee2808d70>\n",
      "ok\n",
      "<_csv.writer object at 0x7fdee28082f0>\n",
      "ok\n",
      "<_csv.writer object at 0x7fdee2808dd0>\n",
      "ok\n",
      "<_csv.writer object at 0x7fdee28082f0>\n",
      "ok\n",
      "<_csv.writer object at 0x7fdee2808bf0>\n",
      "ok\n",
      "<_csv.writer object at 0x7fdee2808dd0>\n",
      "ok\n",
      "<_csv.writer object at 0x7fdee28082f0>\n",
      "ok\n",
      "<_csv.writer object at 0x7fdee2808bf0>\n",
      "ok\n",
      "<_csv.writer object at 0x7fdee2808d70>\n",
      "ok\n",
      "<_csv.writer object at 0x7fdee28082f0>\n",
      "ok\n",
      "<_csv.writer object at 0x7fdee2808d70>\n",
      "ok\n",
      "<_csv.writer object at 0x7fdee2808bf0>\n",
      "ok\n",
      "<_csv.writer object at 0x7fdee28082f0>\n",
      "ok\n",
      "<_csv.writer object at 0x7fdee2808bf0>\n",
      "ok\n",
      "<_csv.writer object at 0x7fdee2808dd0>\n",
      "ok\n",
      "<_csv.writer object at 0x7fdee2808d70>\n",
      "ok\n",
      "<_csv.writer object at 0x7fdee2808bf0>\n",
      "./zipdir/38_bm_rates.csv\n",
      "./zipdir/19_bm_rates.csv\n",
      "./zipdir/1_bm_rates.csv\n",
      "./zipdir/23_bm_rates.csv\n",
      "./zipdir/39_bm_rates.csv\n",
      "./zipdir/3_bm_rates.csv\n",
      "./zipdir/13_bm_rates.csv\n",
      "./zipdir/0_bm_rates.csv\n",
      "./zipdir/4_bm_rates.csv\n",
      "./zipdir/37_bm_rates.csv\n",
      "./zipdir/11_bm_rates.csv\n",
      "./zipdir/33_bm_rates.csv\n",
      "./zipdir/28_bm_rates.csv\n",
      "./zipdir/41_bm_rates.csv\n",
      "./zipdir/20_bm_rates.csv\n",
      "./zipdir/30_bm_rates.csv\n",
      "./zipdir/12_bm_rates.csv\n",
      "./zipdir/26_bm_rates.csv\n",
      "./zipdir/40_bm_rates.csv\n",
      "./zipdir/9_bm_rates.csv\n",
      "./zipdir/25_bm_rates.csv\n",
      "./zipdir/8_bm_rates.csv\n",
      "./zipdir/18_bm_rates.csv\n",
      "./zipdir/29_bm_rates.csv\n",
      "./zipdir/27_bm_rates.csv\n",
      "./zipdir/34_bm_rates.csv\n",
      "./zipdir/16_bm_rates.csv\n",
      "./zipdir/10_bm_rates.csv\n",
      "./zipdir/7_bm_rates.csv\n",
      "./zipdir/35_bm_rates.csv\n",
      "./zipdir/45_bm_rates.csv\n",
      "./zipdir/32_bm_rates.csv\n",
      "./zipdir/24_bm_rates.csv\n",
      "./zipdir/6_bm_rates.csv\n",
      "./zipdir/5_bm_rates.csv\n",
      "./zipdir/2_bm_rates.csv\n",
      "./zipdir/22_bm_rates.csv\n",
      "./zipdir/36_bm_rates.csv\n",
      "./zipdir/46_bm_rates.csv\n",
      "./zipdir/14_bm_rates.csv\n",
      "./zipdir/44_bm_rates.csv\n",
      "./zipdir/17_bm_rates.csv\n",
      "./zipdir/43_bm_rates.csv\n",
      "./zipdir/21_bm_rates.csv\n",
      "./zipdir/47_bm_rates.csv\n",
      "./zipdir/42_bm_rates.csv\n",
      "./zipdir/15_bm_rates.csv\n",
      "./zipdir/48_bm_rates.csv\n",
      "./zipdir/49_bm_rates.csv\n",
      "./zipdir/31_bm_rates.csv\n"
     ]
    },
    {
     "ename": "KeyError",
     "evalue": "'datetime'",
     "output_type": "error",
     "traceback": [
      "\u001b[0;31m---------------------------------------------------------------------------\u001b[0m",
      "\u001b[0;31mKeyError\u001b[0m                                  Traceback (most recent call last)",
      "\u001b[0;32m<ipython-input-8-9bb7fa96b6b7>\u001b[0m in \u001b[0;36m<module>\u001b[0;34m\u001b[0m\n\u001b[1;32m     20\u001b[0m             \u001b[0mrow\u001b[0m \u001b[0;34m=\u001b[0m \u001b[0mcurrency_rate_retrieval\u001b[0m\u001b[0;34m(\u001b[0m\u001b[0mx\u001b[0m\u001b[0;34m,\u001b[0m \u001b[0;36m63\u001b[0m\u001b[0;34m,\u001b[0m\u001b[0;36m139\u001b[0m\u001b[0;34m)\u001b[0m\u001b[0;34m\u001b[0m\u001b[0;34m\u001b[0m\u001b[0m\n\u001b[1;32m     21\u001b[0m             \u001b[0mans\u001b[0m\u001b[0;34m.\u001b[0m\u001b[0mappend\u001b[0m\u001b[0;34m(\u001b[0m\u001b[0mrow\u001b[0m\u001b[0;34m)\u001b[0m\u001b[0;34m\u001b[0m\u001b[0;34m\u001b[0m\u001b[0m\n\u001b[0;32m---> 22\u001b[0;31m     \u001b[0mappended\u001b[0m \u001b[0;34m=\u001b[0m \u001b[0mpd\u001b[0m\u001b[0;34m.\u001b[0m\u001b[0mconcat\u001b[0m\u001b[0;34m(\u001b[0m\u001b[0mans\u001b[0m\u001b[0;34m)\u001b[0m\u001b[0;34m.\u001b[0m\u001b[0msort_values\u001b[0m\u001b[0;34m(\u001b[0m\u001b[0mby\u001b[0m\u001b[0;34m=\u001b[0m\u001b[0;34m[\u001b[0m\u001b[0;34m'datetime'\u001b[0m\u001b[0;34m]\u001b[0m\u001b[0;34m)\u001b[0m\u001b[0;34m\u001b[0m\u001b[0;34m\u001b[0m\u001b[0m\n\u001b[0m\u001b[1;32m     23\u001b[0m     \u001b[0mprint\u001b[0m\u001b[0;34m(\u001b[0m\u001b[0mappended\u001b[0m\u001b[0;34m)\u001b[0m\u001b[0;34m\u001b[0m\u001b[0;34m\u001b[0m\u001b[0m\n\u001b[1;32m     24\u001b[0m     \u001b[0mprint\u001b[0m\u001b[0;34m(\u001b[0m\u001b[0;34m'allright'\u001b[0m\u001b[0;34m)\u001b[0m\u001b[0;34m\u001b[0m\u001b[0;34m\u001b[0m\u001b[0m\n",
      "\u001b[0;32m~/anaconda3/lib/python3.7/site-packages/pandas/core/frame.py\u001b[0m in \u001b[0;36msort_values\u001b[0;34m(self, by, axis, ascending, inplace, kind, na_position, ignore_index)\u001b[0m\n\u001b[1;32m   4925\u001b[0m \u001b[0;34m\u001b[0m\u001b[0m\n\u001b[1;32m   4926\u001b[0m             \u001b[0mby\u001b[0m \u001b[0;34m=\u001b[0m \u001b[0mby\u001b[0m\u001b[0;34m[\u001b[0m\u001b[0;36m0\u001b[0m\u001b[0;34m]\u001b[0m\u001b[0;34m\u001b[0m\u001b[0;34m\u001b[0m\u001b[0m\n\u001b[0;32m-> 4927\u001b[0;31m             \u001b[0mk\u001b[0m \u001b[0;34m=\u001b[0m \u001b[0mself\u001b[0m\u001b[0;34m.\u001b[0m\u001b[0m_get_label_or_level_values\u001b[0m\u001b[0;34m(\u001b[0m\u001b[0mby\u001b[0m\u001b[0;34m,\u001b[0m \u001b[0maxis\u001b[0m\u001b[0;34m=\u001b[0m\u001b[0maxis\u001b[0m\u001b[0;34m)\u001b[0m\u001b[0;34m\u001b[0m\u001b[0;34m\u001b[0m\u001b[0m\n\u001b[0m\u001b[1;32m   4928\u001b[0m \u001b[0;34m\u001b[0m\u001b[0m\n\u001b[1;32m   4929\u001b[0m             \u001b[0;32mif\u001b[0m \u001b[0misinstance\u001b[0m\u001b[0;34m(\u001b[0m\u001b[0mascending\u001b[0m\u001b[0;34m,\u001b[0m \u001b[0;34m(\u001b[0m\u001b[0mtuple\u001b[0m\u001b[0;34m,\u001b[0m \u001b[0mlist\u001b[0m\u001b[0;34m)\u001b[0m\u001b[0;34m)\u001b[0m\u001b[0;34m:\u001b[0m\u001b[0;34m\u001b[0m\u001b[0;34m\u001b[0m\u001b[0m\n",
      "\u001b[0;32m~/anaconda3/lib/python3.7/site-packages/pandas/core/generic.py\u001b[0m in \u001b[0;36m_get_label_or_level_values\u001b[0;34m(self, key, axis)\u001b[0m\n\u001b[1;32m   1690\u001b[0m             \u001b[0mvalues\u001b[0m \u001b[0;34m=\u001b[0m \u001b[0mself\u001b[0m\u001b[0;34m.\u001b[0m\u001b[0maxes\u001b[0m\u001b[0;34m[\u001b[0m\u001b[0maxis\u001b[0m\u001b[0;34m]\u001b[0m\u001b[0;34m.\u001b[0m\u001b[0mget_level_values\u001b[0m\u001b[0;34m(\u001b[0m\u001b[0mkey\u001b[0m\u001b[0;34m)\u001b[0m\u001b[0;34m.\u001b[0m\u001b[0m_values\u001b[0m\u001b[0;34m\u001b[0m\u001b[0;34m\u001b[0m\u001b[0m\n\u001b[1;32m   1691\u001b[0m         \u001b[0;32melse\u001b[0m\u001b[0;34m:\u001b[0m\u001b[0;34m\u001b[0m\u001b[0;34m\u001b[0m\u001b[0m\n\u001b[0;32m-> 1692\u001b[0;31m             \u001b[0;32mraise\u001b[0m \u001b[0mKeyError\u001b[0m\u001b[0;34m(\u001b[0m\u001b[0mkey\u001b[0m\u001b[0;34m)\u001b[0m\u001b[0;34m\u001b[0m\u001b[0;34m\u001b[0m\u001b[0m\n\u001b[0m\u001b[1;32m   1693\u001b[0m \u001b[0;34m\u001b[0m\u001b[0m\n\u001b[1;32m   1694\u001b[0m         \u001b[0;31m# Check for duplicates\u001b[0m\u001b[0;34m\u001b[0m\u001b[0;34m\u001b[0m\u001b[0;34m\u001b[0m\u001b[0m\n",
      "\u001b[0;31mKeyError\u001b[0m: 'datetime'"
     ]
    }
   ],
   "source": [
    "while True:\n",
    "    for i in range():\n",
    "        try:\n",
    "            r = requests.get(url, allow_redirects=True)\n",
    "            open(f'{path}{filename}', 'wb').write(r.content)\n",
    "            print('ok')\n",
    "            with ZipFile(filepath, 'r') as zipObj:\n",
    "                zippath = path + 'zipdir/'\n",
    "                a = zipObj.extractall(zippath)\n",
    "                for file in os.listdir(zippath):\n",
    "                    if 'bm_rates.dat' == file:\n",
    "                        os.rename(zippath + file, zippath + f\"{i}_{file}\")\n",
    "                        bm_rates_dat_to_csv_converter(zippath + f\"{i}_{file}\")\n",
    "                cleaner(zippath, 'dat')\n",
    "        except:\n",
    "            print('bad_request')\n",
    "    ans = []\n",
    "    for x in os.listdir(zippath):\n",
    "        if 'bm_rates.csv' in x:\n",
    "            row = currency_rate_retrieval(x, 63,139)\n",
    "            ans.append(row)\n",
    "    appended = pd.concat(ans).sort_values(by=['datetime'])\n",
    "    print(appended)\n",
    "    print('allright')\n",
    "    last_period = appended['id'].max()\n",
    "    min_value = appended['cur_give_num'].min()\n",
    "    best = appended.loc[(appended['id'] == last_period) & (appended['cur_give_num'] == min_value), 'saler_id']\n",
    "    print(best)\n",
    "    print(best.values)\n",
    "    dots = appended.loc[appended['saler_id'] == best.values[0], ['cur_give_num', 'id']]\n",
    "    dots.plot(x='id', y='cur_give_num')\n",
    "    print(dots)\n",
    "    \n",
    "    break\n"
   ]
  },
  {
   "cell_type": "code",
   "execution_count": null,
   "metadata": {},
   "outputs": [],
   "source": []
  },
  {
   "cell_type": "code",
   "execution_count": null,
   "metadata": {},
   "outputs": [],
   "source": []
  }
 ],
 "metadata": {
  "kernelspec": {
   "display_name": "Python 3",
   "language": "python",
   "name": "python3"
  },
  "language_info": {
   "codemirror_mode": {
    "name": "ipython",
    "version": 3
   },
   "file_extension": ".py",
   "mimetype": "text/x-python",
   "name": "python",
   "nbconvert_exporter": "python",
   "pygments_lexer": "ipython3",
   "version": "3.7.6"
  }
 },
 "nbformat": 4,
 "nbformat_minor": 4
}
