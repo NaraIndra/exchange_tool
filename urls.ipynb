{
 "cells": [
  {
   "cell_type": "code",
   "execution_count": 1,
   "metadata": {},
   "outputs": [
    {
     "name": "stdout",
     "output_type": "stream",
     "text": [
      "/home/ikira/Desktop/zipdir/\n"
     ]
    }
   ],
   "source": [
    "import os\n",
    "import requests\n",
    "import csv\n",
    "from zipfile import ZipFile\n",
    "from pathlib import Path\n",
    "import pandas as pd\n",
    "from typing import List, Optional\n",
    "import numpy as np\n",
    "\n",
    "path = '/home/ikira/Desktop/'\n",
    "zippath = path + 'zipdir/'\n",
    "print(zippath)\n",
    "filepath = ''\n",
    "\n",
    "url = 'http://api.bestchange.ru/info.zip'\n",
    "if url.find('/'):\n",
    "    filename = url.rsplit('/', 1)[1]\n",
    "    filepath = path + filename\n",
    "else:\n",
    "    filepath = path + 'infozip'"
   ]
  },
  {
   "cell_type": "code",
   "execution_count": 2,
   "metadata": {},
   "outputs": [
    {
     "name": "stdout",
     "output_type": "stream",
     "text": [
      "/home/ikira/Desktop/zipdir/\n"
     ]
    }
   ],
   "source": [
    "r = requests.get(url, allow_redirects=True)\n",
    "open(f'{filepath}', 'wb').write(r.content)\n",
    "\n",
    "with ZipFile(filepath, 'r') as zipObj:\n",
    "    zippath = path + 'zipdir/'\n",
    "    print(zippath)\n",
    "    a = zipObj.extractall(zippath)\n",
    "        "
   ]
  },
  {
   "cell_type": "code",
   "execution_count": 3,
   "metadata": {},
   "outputs": [
    {
     "name": "stdout",
     "output_type": "stream",
     "text": [
      "163 Tether Omni (USDT)\n",
      "10 Tether TRC20 (USDT)\n",
      "36 Tether ERC20 (USDT)\n"
     ]
    }
   ],
   "source": [
    "with open('/home/ikira/Desktop/zipdir/bm_cy.dat', encoding = \"ISO-8859-1\") as dat_file, open('/home/ikira/Desktop/zipdir/id_currency.csv', 'w') as csv_file:\n",
    "    csv_writer = csv.writer(csv_file)\n",
    "    for line in dat_file:\n",
    "        uline = line.encode('utf-8').decode('utf-8')\n",
    "        row = [field.strip() for field in uline.split(';')]\n",
    "        if len(row) == 7 and row[3] and row[4]:\n",
    "            if ('Tether' in row[2]):\n",
    "                print(row[0], row[2])\n",
    "            csv_writer.writerow([row[0] + ';' + row[2]])"
   ]
  },
  {
   "cell_type": "code",
   "execution_count": 4,
   "metadata": {},
   "outputs": [],
   "source": [
    "for f in os.listdir(zippath):\n",
    "    if '.dat' in f: \n",
    "        os.remove(os.path.join(zippath, f))"
   ]
  },
  {
   "cell_type": "code",
   "execution_count": 5,
   "metadata": {},
   "outputs": [
    {
     "name": "stdout",
     "output_type": "stream",
     "text": [
      "None\n"
     ]
    }
   ],
   "source": [
    "with ZipFile(filepath, 'r') as zipObj:\n",
    "   a = zipObj.extractall(path+'zipdir')\n",
    "   print(a)\n",
    "    \n",
    "init_state = 0"
   ]
  },
  {
   "cell_type": "code",
   "execution_count": 6,
   "metadata": {},
   "outputs": [],
   "source": [
    "def query_currency_id(data,currency_name):\n",
    "    pass"
   ]
  },
  {
   "cell_type": "code",
   "execution_count": 7,
   "metadata": {},
   "outputs": [],
   "source": [
    "def currency_rate_retrieval(filename, cur_1, cur_2) -> Optional[List]:\n",
    "    if filename[0].isdigit() and  filename.split('.')[1] == 'csv':\n",
    "        print(f'{zippath}{x}')\n",
    "        data_new = pd.read_csv(f'{zippath}{x}', sep = ';', names = ['cur_give_id', 'cur_take_id', 'saler_id', 'cur_give_num', 'cur_take_num']) \n",
    "        row = data_new[(data_new.cur_give_id == cur_1) & (data_new.cur_take_id == cur_2)]\n",
    "        row['id'] = int(filename.split('_')[0])\n",
    "        return row\n",
    "            \n",
    "            "
   ]
  },
  {
   "cell_type": "code",
   "execution_count": 8,
   "metadata": {},
   "outputs": [],
   "source": [
    "\n",
    "# currency_rate_retrieval([x for x in os.listdir(zippath)], 93, 935)"
   ]
  },
  {
   "cell_type": "code",
   "execution_count": 9,
   "metadata": {},
   "outputs": [],
   "source": [
    "def bm_rates_dat_to_csv_converter(path_filename):\n",
    "    with open(path_filename, encoding = \"ISO-8859-1\") as dat_file, open(path_filename[:-3]+'csv', 'w') as csv_file:\n",
    "        csv_writer = csv.writer(csv_file)\n",
    "        print(csv_writer)\n",
    "        for line in dat_file:\n",
    "            uline = line.encode('utf-8').decode('utf-8')\n",
    "            row = [field.strip() for field in uline.split(';')]\n",
    "            csv_writer.writerow([row[0] + ';' + row[1] + ';' + row[2] + ';' + row[3] + ';' + row[4]])"
   ]
  },
  {
   "cell_type": "code",
   "execution_count": 10,
   "metadata": {},
   "outputs": [],
   "source": [
    "def cleaner(path, ending):\n",
    "    for f in os.listdir(path):\n",
    "        if ending in f:\n",
    "            os.remove(os.path.join(path, f))\n",
    "    "
   ]
  },
  {
   "cell_type": "code",
   "execution_count": null,
   "metadata": {},
   "outputs": [],
   "source": []
  },
  {
   "cell_type": "code",
   "execution_count": 26,
   "metadata": {},
   "outputs": [
    {
     "name": "stdout",
     "output_type": "stream",
     "text": [
      "ok\n",
      "<_csv.writer object at 0x7fcc941ed0b0>\n",
      "ok\n",
      "<_csv.writer object at 0x7fcc941ed050>\n",
      "ok\n",
      "<_csv.writer object at 0x7fcc941ed530>\n",
      "ok\n",
      "<_csv.writer object at 0x7fcc941ed050>\n",
      "ok\n",
      "<_csv.writer object at 0x7fcc941ed530>\n",
      "ok\n",
      "<_csv.writer object at 0x7fcc941ed050>\n",
      "ok\n",
      "<_csv.writer object at 0x7fcc941ed230>\n",
      "ok\n",
      "<_csv.writer object at 0x7fcc941ed050>\n",
      "ok\n",
      "<_csv.writer object at 0x7fcc941ed530>\n",
      "ok\n",
      "<_csv.writer object at 0x7fcc941ed230>\n",
      "ok\n",
      "<_csv.writer object at 0x7fcc941ed530>\n",
      "ok\n",
      "<_csv.writer object at 0x7fcc941ed470>\n",
      "ok\n",
      "<_csv.writer object at 0x7fcc941ed230>\n",
      "ok\n",
      "<_csv.writer object at 0x7fcc941ed470>\n",
      "ok\n",
      "<_csv.writer object at 0x7fcc941ed230>\n",
      "ok\n",
      "<_csv.writer object at 0x7fcc941ed470>\n",
      "ok\n",
      "<_csv.writer object at 0x7fcc941ed230>\n",
      "ok\n",
      "<_csv.writer object at 0x7fcc941ed470>\n",
      "ok\n",
      "<_csv.writer object at 0x7fcc941ed530>\n",
      "ok\n",
      "<_csv.writer object at 0x7fcc941ed470>\n",
      "19_bm_rates.csv\n",
      "/home/ikira/Desktop/zipdir/19_bm_rates.csv\n",
      "1_bm_rates.csv\n",
      "/home/ikira/Desktop/zipdir/1_bm_rates.csv\n",
      "3_bm_rates.csv\n",
      "/home/ikira/Desktop/zipdir/3_bm_rates.csv\n",
      "13_bm_rates.csv\n",
      "/home/ikira/Desktop/zipdir/13_bm_rates.csv\n",
      "0_bm_rates.csv\n",
      "/home/ikira/Desktop/zipdir/0_bm_rates.csv\n"
     ]
    },
    {
     "name": "stderr",
     "output_type": "stream",
     "text": [
      "/home/ikira/anaconda3/lib/python3.7/site-packages/ipykernel_launcher.py:6: SettingWithCopyWarning: \n",
      "A value is trying to be set on a copy of a slice from a DataFrame.\n",
      "Try using .loc[row_indexer,col_indexer] = value instead\n",
      "\n",
      "See the caveats in the documentation: https://pandas.pydata.org/pandas-docs/stable/user_guide/indexing.html#returning-a-view-versus-a-copy\n",
      "  \n"
     ]
    },
    {
     "name": "stdout",
     "output_type": "stream",
     "text": [
      "4_bm_rates.csv\n",
      "/home/ikira/Desktop/zipdir/4_bm_rates.csv\n",
      "11_bm_rates.csv\n",
      "/home/ikira/Desktop/zipdir/11_bm_rates.csv\n",
      "12_bm_rates.csv\n",
      "/home/ikira/Desktop/zipdir/12_bm_rates.csv\n",
      "9_bm_rates.csv\n",
      "/home/ikira/Desktop/zipdir/9_bm_rates.csv\n",
      "8_bm_rates.csv\n",
      "/home/ikira/Desktop/zipdir/8_bm_rates.csv\n",
      "18_bm_rates.csv\n",
      "/home/ikira/Desktop/zipdir/18_bm_rates.csv\n",
      "16_bm_rates.csv\n",
      "/home/ikira/Desktop/zipdir/16_bm_rates.csv\n",
      "10_bm_rates.csv\n",
      "/home/ikira/Desktop/zipdir/10_bm_rates.csv\n",
      "7_bm_rates.csv\n",
      "/home/ikira/Desktop/zipdir/7_bm_rates.csv\n",
      "6_bm_rates.csv\n",
      "/home/ikira/Desktop/zipdir/6_bm_rates.csv\n",
      "5_bm_rates.csv\n",
      "/home/ikira/Desktop/zipdir/5_bm_rates.csv\n",
      "2_bm_rates.csv\n",
      "/home/ikira/Desktop/zipdir/2_bm_rates.csv\n",
      "14_bm_rates.csv\n",
      "/home/ikira/Desktop/zipdir/14_bm_rates.csv\n",
      "17_bm_rates.csv\n",
      "/home/ikira/Desktop/zipdir/17_bm_rates.csv\n",
      "15_bm_rates.csv\n",
      "/home/ikira/Desktop/zipdir/15_bm_rates.csv\n",
      "        cur_give_id  cur_take_id  saler_id  cur_give_num  cur_take_num  id\n",
      "118782           63          139       397  30024.625556           1.0   0\n",
      "55984            63          139       659  29746.200000           1.0   0\n",
      "57520            63          139       653  31037.541300           1.0   0\n",
      "60559            63          139       417  30158.687200           1.0   0\n",
      "62021            63          139       921  31324.890700           1.0   0\n",
      "...             ...          ...       ...           ...           ...  ..\n",
      "166434           63          139       852  30031.565527           1.0  19\n",
      "167846           63          139       922  35197.650000           1.0  19\n",
      "167970           63          139       758  32017.569008           1.0  19\n",
      "148739           63          139       929  29694.629600           1.0  19\n",
      "968              63          139       546  29506.985400           1.0  19\n",
      "\n",
      "[1693 rows x 6 columns]\n",
      "allright\n",
      "19\n",
      "aaa 29506.9854\n",
      "968    546\n",
      "Name: saler_id, dtype: int64\n",
      "[546]\n",
      "      cur_give_num  id\n",
      "67      29517.0127   0\n",
      "101     29517.0127   1\n",
      "105     29517.0127   2\n",
      "105     29517.0127   3\n",
      "105     29517.0127   4\n",
      "105     29517.0127   5\n",
      "161     29517.0127   6\n",
      "194     29517.0127   7\n",
      "197     29517.0125   8\n",
      "147     29517.0125   9\n",
      "238     29517.0125  10\n",
      "251     29517.0125  11\n",
      "291     29517.0125  12\n",
      "1030    29517.0127  13\n",
      "1030    29517.0127  14\n",
      "1030    29517.0127  15\n",
      "1030    29517.0127  16\n",
      "1031    29506.9854  17\n",
      "1031    29506.9854  18\n",
      "968     29506.9854  19\n"
     ]
    },
    {
     "data": {
      "image/png": "[encoded data removed]",
      "text/plain": [
       "<Figure size 432x288 with 1 Axes>"
      ]
     },
     "metadata": {
      "needs_background": "light"
     },
     "output_type": "display_data"
    }
   ],
   "source": [
    "while True:\n",
    "    for i in range(20):\n",
    "        try:\n",
    "            r = requests.get(url, allow_redirects=True)\n",
    "            open(f'{path}{filename}', 'wb').write(r.content)\n",
    "            print('ok')\n",
    "            with ZipFile(filepath, 'r') as zipObj:\n",
    "                zippath = path + 'zipdir/'\n",
    "                a = zipObj.extractall(zippath)\n",
    "                for file in os.listdir(zippath):\n",
    "                    if 'bm_rates.dat' == file:\n",
    "                        os.rename(zippath + file, zippath + f\"{i}_{file}\")\n",
    "                        bm_rates_dat_to_csv_converter(zippath + f\"{i}_{file}\")\n",
    "                cleaner(zippath, 'dat')\n",
    "        except:\n",
    "            print('bad_request')\n",
    "    ans = []\n",
    "    for x in os.listdir(zippath):\n",
    "        if 'bm_rates.csv' in x:\n",
    "            print(x)\n",
    "            row = currency_rate_retrieval(x, 63,139)\n",
    "            ans.append(row)\n",
    "    appended = pd.concat(ans).sort_values(by=['id'])\n",
    "    print(appended)\n",
    "        \n",
    "    print('allright')\n",
    "    last_period = appended['id'].max()\n",
    "    print(last_period)\n",
    "    print('aaa',  appended['cur_give_num'].min())\n",
    "    min_value = appended['cur_give_num'].min()\n",
    "    best = appended.loc[(appended['id'] == last_period) & (appended['cur_give_num'] == min_value), 'saler_id']\n",
    "    print(best)\n",
    "    print(best.values)\n",
    "    dots = appended.loc[appended['saler_id'] == best.values[0], ['cur_give_num', 'id']]\n",
    "    dots.plot(x='id', y='cur_give_num')\n",
    "    print(dots)\n",
    "    \n",
    "    break\n"
   ]
  },
  {
   "cell_type": "code",
   "execution_count": null,
   "metadata": {},
   "outputs": [],
   "source": []
  },
  {
   "cell_type": "code",
   "execution_count": null,
   "metadata": {},
   "outputs": [],
   "source": []
  }
 ],
 "metadata": {
  "kernelspec": {
   "display_name": "Python 3",
   "language": "python",
   "name": "python3"
  },
  "language_info": {
   "codemirror_mode": {
    "name": "ipython",
    "version": 3
   },
   "file_extension": ".py",
   "mimetype": "text/x-python",
   "name": "python",
   "nbconvert_exporter": "python",
   "pygments_lexer": "ipython3",
   "version": "3.7.6"
  }
 },
 "nbformat": 4,
 "nbformat_minor": 4
}
